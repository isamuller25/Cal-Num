Exercício 2

from scipy.interpolate import interp1d
import numpy as np
import matplotlib.pyplot as plt
import random

# a função "desconhecida" a ser interpolada 
def R(x):
    return 1.0/(1.0 + 25.0*x**2)

# Interpolating points
# quanto mais pontos colocarmos entre -0.5 e +0.5, melhor fica a aproximação da curva nesse intervalo (verde)
xi = np.array([-5, -4, -3, -2, -1.5, -1, -0.5, 0, 0.5, 1, 2, 3, 4, 5])
yi = R(xi)

# Define a set of points to evaluate the functions
# igualmenente espaçados 
xeval = np.linspace(-5, 5, 2000)
yeval = R(xeval)

q = 120
xaleat = np.zeros(shape=(q))
for i in range(q):
    xaleat[i] = random.uniform(-5,5)
xaleat = sorted(xaleat)

# Compute the piecewise 'liner' and 'cubic' polynomial
ylin = interp1d(xi, yi, kind= 'linear')
ycub= interp1d(xi, yi, kind= 'cubic')

# Plot everything
plt.plot(xi, yi, 'ob',
xeval, yeval, '-r',
xeval, ylin(xeval), '-g',
xaleat, ylin(xaleat), 'black',
xeval, ycub(xeval), 'purple',
xaleat, ycub(xaleat), 'pink')

fig, ax = plt.subplots(3,2, figsize=(10,10))
ax[0,0].plot(xi, yi, 'ob')
ax[0,0].set_title('Pontos arbitrários')

ax[0,1].plot(xeval, yeval, '-r',)
ax[0,1].set_title('Gráfico orignal')

ax[1,0].plot(xeval, ylin(xeval), '-g')
ax[1,0].set_title('Interpolação linear com intervalo igualmente espaçado')

ax[1,1].plot(xaleat, ylin(xaleat), 'black')
ax[1,1].set_title('Interpolação linear com intervalo aleatório')

ax[2,0].plot(xeval, ycub(xeval), 'purple')
ax[2,0].set_title('Interpolação cúbica com intervalo igualmente espaçado')

ax[2,1].plot(xaleat, ycub(xaleat), 'pink')
ax[2,1].set_title('Interpolação cúbica com intervalo aleatório')

fig.tight_layout()
plt.subplots_adjust(wspace=0.3, hspace=0.5)
plt.show()
